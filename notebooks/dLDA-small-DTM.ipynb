{
 "cells": [
  {
   "cell_type": "code",
   "execution_count": 7,
   "metadata": {},
   "outputs": [],
   "source": [
    "import pandas\n",
    "import numpy as np\n",
    "import json\n",
    "import glob\n",
    "import seaborn\n",
    "import gab\n",
    "\n",
    "import re\n",
    "import collections\n",
    "import urllib\n",
    "import datetime\n",
    "import dateutil\n",
    "\n",
    "import pandas\n",
    "import matplotlib.pyplot as plt\n",
    "import numpy as np\n",
    "import seaborn\n",
    "\n",
    "import ipywidgets as widgets\n",
    "from IPython.display import display\n",
    "\n",
    "import json\n",
    "import gensim\n",
    "\n",
    "from gensim.models import LdaSeqModel\n",
    "\n",
    "shootingDate = pandas.Timestamp('2018-10-27')\n",
    "\n",
    "posts = glob.glob('../2019-03-17_processed_2/posts*')\n",
    "users = glob.glob('../2019-03-17_processed_2/nodes*')"
   ]
  },
  {
   "cell_type": "code",
   "execution_count": 8,
   "metadata": {},
   "outputs": [],
   "source": [
    "def loadFile(filePath):\n",
    "    #print(f\"Reading: {filePath}\")\n",
    "    targets = []\n",
    "    with open(filePath) as f:\n",
    "        for i, l in enumerate(f):\n",
    "            targets.append(json.loads(l))\n",
    "            if i % 10000 == 0:\n",
    "                print(f\"{filePath}:{i}\", end = '\\r')\n",
    "    return pandas.DataFrame(targets)\n",
    "\n",
    "def loadngrams(path):\n",
    "    with open(path) as f:\n",
    "        dat = {}\n",
    "        f.readline()\n",
    "        for l in f:\n",
    "            *w, c = l.strip().split(',')\n",
    "            dat[tuple(w)] = int(c)\n",
    "    return dat"
   ]
  },
  {
   "cell_type": "code",
   "execution_count": 9,
   "metadata": {},
   "outputs": [
    {
     "name": "stdout",
     "output_type": "stream",
     "text": [
      "Loading data\n",
      "Loading posts\n",
      "Loading users\n"
     ]
    }
   ],
   "source": [
    "print(\"Loading data\")\n",
    "with multiprocessing.Pool(48) as pool:\n",
    "    print(\"Loading posts\")\n",
    "    postsDat = pool.map(loadFile, posts)\n",
    "    print(\"Loading users\")\n",
    "    usersDat = pool.map(loadFile, users)"
   ]
  },
  {
   "cell_type": "code",
   "execution_count": 10,
   "metadata": {},
   "outputs": [],
   "source": [
    "df_users = pandas.concat(usersDat, sort=False)\n",
    "df_posts = pandas.concat(postsDat, sort=False)"
   ]
  },
  {
   "cell_type": "code",
   "execution_count": 11,
   "metadata": {},
   "outputs": [],
   "source": [
    "df_posts['tokens'] = df_posts['clean_body'].apply(lambda x : x.lower().split())"
   ]
  },
  {
   "cell_type": "code",
   "execution_count": 12,
   "metadata": {},
   "outputs": [],
   "source": [
    "unigrams = {k[0]: v for k, v in loadngrams(\"../2019-03-17_ngrams_2/1-grams.csv\").items()}"
   ]
  },
  {
   "cell_type": "code",
   "execution_count": null,
   "metadata": {},
   "outputs": [],
   "source": [
    "df_posts['tokens_reduced'] = df_posts['tokens'].apply(lambda x : [w for w in x if w in unigrams])"
   ]
  },
  {
   "cell_type": "code",
   "execution_count": null,
   "metadata": {},
   "outputs": [],
   "source": [
    "df_posts['date'] = df_posts['created_at'].apply(lambda x : x[:7])"
   ]
  },
  {
   "cell_type": "code",
   "execution_count": null,
   "metadata": {},
   "outputs": [],
   "source": [
    "df_posts = df_posts.sort_values('date')"
   ]
  },
  {
   "cell_type": "code",
   "execution_count": null,
   "metadata": {},
   "outputs": [],
   "source": [
    "df_counts_group = df_posts[['date','body','tokens_reduced']]#.groupby('date').count()"
   ]
  },
  {
   "cell_type": "code",
   "execution_count": null,
   "metadata": {},
   "outputs": [],
   "source": [
    "targets = []\n",
    "def getDate(target):\n",
    "    df_working = df_posts[df_posts['date'] == target]\n",
    "    return df_working.iloc[:100].copy()\n",
    "with multiprocessing.Pool(24) as pool:\n",
    "    reduced = pool.map(getDate, df_posts['date'].unique())"
   ]
  },
  {
   "cell_type": "code",
   "execution_count": null,
   "metadata": {},
   "outputs": [],
   "source": [
    "targets = []\n",
    "for d in reduced:\n",
    "    targets += list(d['tokens_reduced'])"
   ]
  },
  {
   "cell_type": "code",
   "execution_count": null,
   "metadata": {},
   "outputs": [],
   "source": [
    "dictionary = gensim.corpora.Dictionary(targets)"
   ]
  },
  {
   "cell_type": "code",
   "execution_count": null,
   "metadata": {},
   "outputs": [],
   "source": [
    "with multiprocessing.Pool(28) as pool:\n",
    "    corpus = pool.map(dictionary.doc2bow, targets)"
   ]
  },
  {
   "cell_type": "code",
   "execution_count": null,
   "metadata": {},
   "outputs": [],
   "source": [
    "time_slices = [len(d) for d in reduced]"
   ]
  },
  {
   "cell_type": "code",
   "execution_count": null,
   "metadata": {},
   "outputs": [],
   "source": [
    "ldaseq = LdaSeqModel(corpus=corpus, id2word=dictionary, time_slice=time_slices, num_topics=10)"
   ]
  },
  {
   "cell_type": "code",
   "execution_count": 38,
   "metadata": {},
   "outputs": [],
   "source": [
    "ldaseq.save(\"dlda_small.pd\")"
   ]
  },
  {
   "cell_type": "code",
   "execution_count": 2,
   "metadata": {},
   "outputs": [],
   "source": [
    "ldaseq = LdaSeqModel.load(\"dlda_small.pd\")"
   ]
  },
  {
   "cell_type": "code",
   "execution_count": 6,
   "metadata": {},
   "outputs": [
    {
     "ename": "TypeError",
     "evalue": "dtm_vis() missing 2 required positional arguments: 'time' and 'corpus'",
     "output_type": "error",
     "traceback": [
      "\u001b[0;31m---------------------------------------------------------------------------\u001b[0m",
      "\u001b[0;31mTypeError\u001b[0m                                 Traceback (most recent call last)",
      "\u001b[0;32m<ipython-input-6-05003bb27d75>\u001b[0m in \u001b[0;36m<module>\u001b[0;34m\u001b[0m\n\u001b[0;32m----> 1\u001b[0;31m \u001b[0mldaseq\u001b[0m\u001b[0;34m.\u001b[0m\u001b[0mdtm_vis\u001b[0m\u001b[0;34m(\u001b[0m\u001b[0;34m)\u001b[0m\u001b[0;34m\u001b[0m\u001b[0;34m\u001b[0m\u001b[0m\n\u001b[0m",
      "\u001b[0;31mTypeError\u001b[0m: dtm_vis() missing 2 required positional arguments: 'time' and 'corpus'"
     ]
    }
   ],
   "source": [
    "ldaseq.dtm_vis()"
   ]
  },
  {
   "cell_type": "code",
   "execution_count": null,
   "metadata": {},
   "outputs": [],
   "source": []
  }
 ],
 "metadata": {
  "kernelspec": {
   "display_name": "Python 3",
   "language": "python",
   "name": "python3"
  },
  "language_info": {
   "codemirror_mode": {
    "name": "ipython",
    "version": 3
   },
   "file_extension": ".py",
   "mimetype": "text/x-python",
   "name": "python",
   "nbconvert_exporter": "python",
   "pygments_lexer": "ipython3",
   "version": "3.6.7"
  }
 },
 "nbformat": 4,
 "nbformat_minor": 2
}
