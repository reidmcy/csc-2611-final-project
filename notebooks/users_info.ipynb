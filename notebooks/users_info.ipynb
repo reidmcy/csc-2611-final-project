{
 "cells": [
  {
   "cell_type": "code",
   "execution_count": 1,
   "metadata": {},
   "outputs": [],
   "source": [
    "import pandas\n",
    "import numpy as np\n",
    "import json\n",
    "import glob\n",
    "import seaborn\n",
    "import gab\n",
    "\n",
    "import re\n",
    "import collections\n",
    "import urllib\n",
    "import datetime\n",
    "import dateutil\n",
    "\n",
    "import pandas\n",
    "import matplotlib.pyplot as plt\n",
    "import numpy as np\n",
    "import seaborn\n",
    "\n",
    "import ipywidgets as widgets\n",
    "from IPython.display import display\n",
    "\n",
    "import json\n",
    "\n",
    "shootingDate = pandas.Timestamp('2018-10-27')\n",
    "\n",
    "posts = glob.glob('../2019-03-28_processed_3/posts*')\n",
    "users = glob.glob('../2019-03-28_processed_3/nodes*')"
   ]
  },
  {
   "cell_type": "code",
   "execution_count": 2,
   "metadata": {},
   "outputs": [],
   "source": [
    "def loadFile(filePath):\n",
    "    #print(f\"Reading: {filePath}\")\n",
    "    targets = []\n",
    "    with open(filePath) as f:\n",
    "        for i, l in enumerate(f):\n",
    "            targets.append(json.loads(l))\n",
    "            if i % 10000 == 0:\n",
    "                print(f\"{filePath}:{i}\", end = '\\r')\n",
    "    return pandas.DataFrame(targets)"
   ]
  },
  {
   "cell_type": "code",
   "execution_count": 3,
   "metadata": {},
   "outputs": [],
   "source": [
    "def drawCDF(a, ax = None, label = None, ccdf = False, minVal = 0, rescaleX = False, c= None, linewidth = 1):\n",
    "    if ax is None:\n",
    "        fig, ax = plt.subplots(figsize = (10, 7))\n",
    "    a_sort = np.sort(a[a >= minVal])\n",
    "    p = np.arange(len(a_sort)) / (len(a_sort) - 1)\n",
    "    if rescaleX:\n",
    "        a_sort = a_sort / np.max(a_sort)\n",
    "    if ccdf:\n",
    "        ax.plot(a_sort, 1 - p, label = label, c = c, linewidth = linewidth)\n",
    "    else:\n",
    "        ax.plot(a_sort, p, label = label, c = c, linewidth = linewidth)\n",
    "    return ax"
   ]
  },
  {
   "cell_type": "code",
   "execution_count": 4,
   "metadata": {},
   "outputs": [
    {
     "name": "stdout",
     "output_type": "stream",
     "text": [
      "Loading data\n",
      "Loading posts\n",
      "Loading users\n"
     ]
    }
   ],
   "source": [
    "print(\"Loading data\")\n",
    "with multiprocessing.Pool(48) as pool:\n",
    "    print(\"Loading posts\")\n",
    "    postsDat = pool.map(loadFile, posts)\n",
    "    print(\"Loading users\")\n",
    "    usersDat = pool.map(loadFile, users)"
   ]
  },
  {
   "cell_type": "code",
   "execution_count": null,
   "metadata": {},
   "outputs": [],
   "source": [
    "df_users = pandas.concat(usersDat, sort=False)\n",
    "df_posts = pandas.concat(postsDat, sort=False)"
   ]
  },
  {
   "cell_type": "code",
   "execution_count": null,
   "metadata": {},
   "outputs": [],
   "source": [
    "with multiprocessing.Pool(12) as pool:\n",
    "    anti_counts = pool.map(gab.antisemticCount, df_posts['body'])"
   ]
  },
  {
   "cell_type": "code",
   "execution_count": null,
   "metadata": {},
   "outputs": [],
   "source": [
    "df_posts['anti_counts'] = anti_counts\n",
    "df_posts['anti_counts'] = df_posts['anti_counts'].apply(lambda x : min(x, 1.0))"
   ]
  },
  {
   "cell_type": "code",
   "execution_count": null,
   "metadata": {},
   "outputs": [],
   "source": [
    "df_posts['is_repost'] = df_posts['creator'] == df_posts['orginal_auth']\n",
    "df_posts['month'] = df_posts['created_at'].apply(lambda x : x[:7])\n",
    "df_posts['before'] = df_posts['month'].apply(gab.isBefore)"
   ]
  },
  {
   "cell_type": "code",
   "execution_count": null,
   "metadata": {},
   "outputs": [],
   "source": [
    "df_posts_before = df_posts[df_posts['before']].copy()\n",
    "df_posts_after = df_posts[df_posts['before']==False].copy()"
   ]
  },
  {
   "cell_type": "code",
   "execution_count": null,
   "metadata": {},
   "outputs": [],
   "source": [
    "df_users['create'] = pandas.to_datetime(df_users['created_at_month_label'])"
   ]
  },
  {
   "cell_type": "code",
   "execution_count": null,
   "metadata": {},
   "outputs": [],
   "source": [
    "df_users['before'] = df_users['create'].apply(lambda x : x < shootingDate)"
   ]
  },
  {
   "cell_type": "code",
   "execution_count": null,
   "metadata": {},
   "outputs": [
    {
     "data": {
      "text/plain": [
       "266818"
      ]
     },
     "execution_count": 12,
     "metadata": {},
     "output_type": "execute_result"
    }
   ],
   "source": [
    "df_posts_before_grouped = df_posts_before[['creator','body']].groupby('creator').count()\n",
    "len(df_posts_before_grouped)"
   ]
  },
  {
   "cell_type": "code",
   "execution_count": null,
   "metadata": {},
   "outputs": [
    {
     "data": {
      "text/plain": [
       "81713"
      ]
     },
     "execution_count": 13,
     "metadata": {},
     "output_type": "execute_result"
    }
   ],
   "source": [
    "df_posts_after_grouped = df_posts_after[['creator','body']].groupby('creator').count()\n",
    "len(df_posts_after_grouped)"
   ]
  },
  {
   "cell_type": "code",
   "execution_count": null,
   "metadata": {},
   "outputs": [
    {
     "data": {
      "text/plain": [
       "300126"
      ]
     },
     "execution_count": 14,
     "metadata": {},
     "output_type": "execute_result"
    }
   ],
   "source": [
    "df_posts_grouped = df_posts[['creator','body']].groupby('creator').count()\n",
    "len(df_posts_grouped)"
   ]
  },
  {
   "cell_type": "code",
   "execution_count": null,
   "metadata": {},
   "outputs": [],
   "source": [
    "df_posts_grouped['body_ceil'] = df_posts_grouped['body'].apply(lambda x : x if x < 100 else 100)"
   ]
  },
  {
   "cell_type": "code",
   "execution_count": null,
   "metadata": {},
   "outputs": [
    {
     "data": {
      "text/plain": [
       "111.31490773874972"
      ]
     },
     "execution_count": 16,
     "metadata": {},
     "output_type": "execute_result"
    }
   ],
   "source": [
    "df_posts_grouped['body'].mean()"
   ]
  },
  {
   "cell_type": "code",
   "execution_count": null,
   "metadata": {},
   "outputs": [],
   "source": [
    "df_posts_before['body'].mean()"
   ]
  },
  {
   "cell_type": "code",
   "execution_count": null,
   "metadata": {},
   "outputs": [],
   "source": [
    "df_posts_after['body'].mean()"
   ]
  },
  {
   "cell_type": "code",
   "execution_count": null,
   "metadata": {},
   "outputs": [],
   "source": [
    "len(df_posts_before)"
   ]
  },
  {
   "cell_type": "code",
   "execution_count": null,
   "metadata": {},
   "outputs": [],
   "source": [
    "len(df_posts_after)"
   ]
  },
  {
   "cell_type": "code",
   "execution_count": null,
   "metadata": {},
   "outputs": [],
   "source": [
    "len(df_posts)"
   ]
  },
  {
   "cell_type": "code",
   "execution_count": null,
   "metadata": {},
   "outputs": [],
   "source": [
    "post_counts = df_posts.groupby(['month']).count()\n",
    "create_counts = df_users.groupby(['create']).count()"
   ]
  },
  {
   "cell_type": "code",
   "execution_count": null,
   "metadata": {},
   "outputs": [],
   "source": [
    "post_counts.index = pandas.to_datetime(post_counts.index)"
   ]
  },
  {
   "cell_type": "code",
   "execution_count": null,
   "metadata": {},
   "outputs": [],
   "source": [
    "fig, (ax1, ax2) = plt.subplots(figsize = (10, 7), nrows = 2, sharex = True)\n",
    "create_counts['bio'].plot(ax=ax1)\n",
    "ax1.axvline(shootingDate,color='r')\n",
    "post_counts['body'].plot(ax=ax2)\n",
    "ax2.axvline(shootingDate,color='r')\n",
    "ax2.set_xlabel(\"Month\")\n",
    "ax1.set_ylabel(\"Number of new users\")\n",
    "ax2.set_ylabel(\"Number of posts\")\n",
    "ax1.set_title(\"New accounts per month\")\n",
    "ax2.set_title(\"Posts per month\")\n",
    "plt.savefig(\"Before_and_after_counts.pdf\", format = 'pdf')"
   ]
  },
  {
   "cell_type": "code",
   "execution_count": null,
   "metadata": {},
   "outputs": [],
   "source": [
    "df_posts_before['month'].max()"
   ]
  },
  {
   "cell_type": "code",
   "execution_count": null,
   "metadata": {},
   "outputs": [],
   "source": [
    "df_posts['month'] [:10]"
   ]
  },
  {
   "cell_type": "code",
   "execution_count": null,
   "metadata": {},
   "outputs": [],
   "source": []
  }
 ],
 "metadata": {
  "kernelspec": {
   "display_name": "Python 3",
   "language": "python",
   "name": "python3"
  },
  "language_info": {
   "codemirror_mode": {
    "name": "ipython",
    "version": 3
   },
   "file_extension": ".py",
   "mimetype": "text/x-python",
   "name": "python",
   "nbconvert_exporter": "python",
   "pygments_lexer": "ipython3",
   "version": "3.6.7"
  }
 },
 "nbformat": 4,
 "nbformat_minor": 2
}
